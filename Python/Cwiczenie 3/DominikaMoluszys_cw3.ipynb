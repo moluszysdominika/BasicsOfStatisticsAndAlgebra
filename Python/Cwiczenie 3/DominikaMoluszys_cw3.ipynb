{
 "cells": [
  {
   "cell_type": "markdown",
   "metadata": {},
   "source": [
    "# Ćwiczenie 3 Zmienna losowa, rozkłady zmiennej losowej\n",
    "\n",
    "\n",
    "<b>Dla zmiennych losowych przedstawionych w tabeli obliczyć podstawowe statystyki.</b>"
   ]
  },
  {
   "cell_type": "code",
   "execution_count": 1,
   "metadata": {},
   "outputs": [
    {
     "name": "stdout",
     "output_type": "stream",
     "text": [
      "Mean:  3.5\n",
      "Expected value:  3.5\n",
      "Standard deviation:  1.707825127659933\n",
      "Variance:  2.916666666666666\n",
      "Median:  3.0\n",
      "Entropy:  1.791759469228055\n",
      "Cumulative distribution function:  0  -  0.0\n",
      "Cumulative distribution function:  1  -  0.16666666666666666\n",
      "Cumulative distribution function:  2  -  0.3333333333333333\n",
      "Cumulative distribution function:  3  -  0.5\n",
      "Cumulative distribution function:  4  -  0.6666666666666666\n",
      "Cumulative distribution function:  5  -  0.8333333333333333\n",
      "Cumulative distribution function:  6  -  1.0\n"
     ]
    }
   ],
   "source": [
    "import pandas as pd\n",
    "import numpy as np\n",
    "import matplotlib as plt\n",
    "import statistics as stat\n",
    "import scipy.stats as scs\n",
    "import seaborn as sns\n",
    "\n",
    "elements = (1, 2, 3, 4, 5, 6)\n",
    "probability = (1/6,1/6,1/6,1/6,1/6,1/6)\n",
    "\n",
    "data = scs.rv_discrete(name=\"firstVar\", values=(elements,probability))\n",
    "\n",
    "print(\"Mean: \", data.mean())\n",
    "print(\"Expected value: \", data.expect())\n",
    "print(\"Standard deviation: \", data.std())\n",
    "print(\"Variance: \", data.var())\n",
    "print(\"Median: \", data.median())\n",
    "print(\"Entropy: \", data.entropy())\n",
    "\n",
    "for i in range(7):\n",
    "    print(\"Cumulative distribution function: \", i,\" - \", data.cdf(i))"
   ]
  },
  {
   "cell_type": "markdown",
   "metadata": {},
   "source": [
    "<b>Wygeneruj próby dla n=100 dla następujących rozkładów: Bernoulliego, Dwumianowego, Poissona.</b>"
   ]
  },
  {
   "cell_type": "code",
   "execution_count": 2,
   "metadata": {},
   "outputs": [
    {
     "name": "stdout",
     "output_type": "stream",
     "text": [
      "Bernoulli: \n",
      " [0 0 0 0 1 0 1 0 0 0 1 0 0 0 0 0 1 0 0 0 0 0 0 0 1 1 0 0 1 0 0 0 0 1 0 0 0\n",
      " 0 0 0 0 1 0 0 0 0 0 0 1 0 0 0 0 0 0 0 0 0 0 0 0 0 0 0 0 0 0 1 0 0 0 0 0 0\n",
      " 0 0 0 0 0 0 1 0 0 0 0 0 0 0 0 0 1 0 0 0 0 0 0 0 0 0]\n",
      "Binomial: \n",
      " [1 2 1 0 1 1 1 4 1 1 2 1 1 2 0 1 0 2 2 1 2 0 1 2 1 1 2 3 2 0 1 1 0 2 2 0 0\n",
      " 1 0 2 2 1 1 0 1 0 2 2 0 0 0 0 0 1 1 1 1 1 1 1 1 0 2 1 1 1 2 0 0 0 1 1 0 2\n",
      " 2 1 1 1 1 3 2 1 1 0 2 2 2 1 0 2 0 1 0 0 2 1 1 1 0 1]\n",
      "Poisson: \n",
      " [0 0 1 0 0 1 0 0 0 0 0 0 1 0 0 0 0 0 0 0 0 2 0 0 0 0 0 0 0 0 0 0 0 0 0 0 1\n",
      " 0 0 0 0 0 1 0 1 1 0 0 0 0 0 0 0 0 0 0 0 0 0 0 0 0 0 0 0 0 0 0 0 0 0 0 0 1\n",
      " 0 0 0 0 0 1 0 0 0 0 0 0 0 0 0 0 1 0 0 0 0 0 1 0 0 0]\n"
     ]
    }
   ],
   "source": [
    "p = 0.2\n",
    "n = 5\n",
    "\n",
    "bernoulli = scs.bernoulli.rvs(p, size=100)\n",
    "binomial = scs.binom.rvs(n, p, size=100)\n",
    "poisson = scs.poisson.rvs(p, size=100)\n",
    "\n",
    "print(\"Bernoulli: \\n\", bernoulli)\n",
    "print(\"Binomial: \\n\", binomial)\n",
    "print(\"Poisson: \\n\", poisson)"
   ]
  },
  {
   "cell_type": "markdown",
   "metadata": {},
   "source": [
    "<b>Policz dla nich statystyki podstawowe (średnią, wariancję, kurtozę i skośność).</b> "
   ]
  },
  {
   "cell_type": "code",
   "execution_count": 3,
   "metadata": {},
   "outputs": [
    {
     "name": "stdout",
     "output_type": "stream",
     "text": [
      "Bernoulli\n",
      "Mean:  0.13\n",
      "Variance:  0.1131\n",
      "Kurtosis:  2.200393823765194\n",
      "Skewness:  2.8417329796640125\n",
      "\n",
      "Binomial\n",
      "Mean:  1.05\n",
      "Variance:  0.6875\n",
      "Skewness:  0.538115519704605\n",
      "Kurtosis:  0.3392793388429758\n",
      "\n",
      "Poisson\n",
      "Mean:  0.13\n",
      "Variance:  0.13309999999999997\n",
      "Skewness:  2.7985508271327517\n",
      "Kurtosis:  7.473992710383673\n"
     ]
    }
   ],
   "source": [
    "print(\"Bernoulli\")\n",
    "print(\"Mean: \", bernoulli.mean())\n",
    "print(\"Variance: \", bernoulli.var())\n",
    "print(\"Kurtosis: \", scs.skew(bernoulli))\n",
    "print(\"Skewness: \", scs.kurtosis(bernoulli))\n",
    "\n",
    "print(\"\\nBinomial\")\n",
    "print(\"Mean: \", binomial.mean())\n",
    "print(\"Variance: \", binomial.var())\n",
    "print(\"Skewness: \", scs.skew(binomial))\n",
    "print(\"Kurtosis: \", scs.kurtosis(binomial))\n",
    "\n",
    "print(\"\\nPoisson\")\n",
    "print(\"Mean: \", poisson.mean())\n",
    "print(\"Variance: \", poisson.var())\n",
    "print(\"Skewness: \", scs.skew(poisson))\n",
    "print(\"Kurtosis: \", scs.kurtosis(poisson))"
   ]
  },
  {
   "cell_type": "markdown",
   "metadata": {},
   "source": [
    "<b>Dla rozkładów Bernoulliego, Dwumianowego i Poissona narysuj wykres składający się z 3 części, gdzie każda część będzie zawierać wykres rozkładu prawdopodobieństwa.</b>"
   ]
  },
  {
   "cell_type": "code",
   "execution_count": 4,
   "metadata": {},
   "outputs": [
    {
     "name": "stderr",
     "output_type": "stream",
     "text": [
      "C:\\Users\\Dominika\\AppData\\Roaming\\Python\\Python37\\site-packages\\seaborn\\distributions.py:2557: FutureWarning: `distplot` is a deprecated function and will be removed in a future version. Please adapt your code to use either `displot` (a figure-level function with similar flexibility) or `histplot` (an axes-level function for histograms).\n",
      "  warnings.warn(msg, FutureWarning)\n"
     ]
    },
    {
     "data": {
      "text/plain": [
       "[Text(0.5, 0, 'Bernoulli distribution'), Text(0, 0.5, 'Frequency')]"
      ]
     },
     "execution_count": 4,
     "metadata": {},
     "output_type": "execute_result"
    },
    {
     "data": {
      "image/png": "[encoded data removed]",
      "text/plain": [
       "<Figure size 432x288 with 1 Axes>"
      ]
     },
     "metadata": {
      "needs_background": "light"
     },
     "output_type": "display_data"
    }
   ],
   "source": [
    "ax = sns.distplot(bernoulli, color=\"red\")\n",
    "ax.set(xlabel=\"Bernoulli distribution\", ylabel=\"Frequency\")"
   ]
  },
  {
   "cell_type": "code",
   "execution_count": 5,
   "metadata": {},
   "outputs": [
    {
     "name": "stderr",
     "output_type": "stream",
     "text": [
      "C:\\Users\\Dominika\\AppData\\Roaming\\Python\\Python37\\site-packages\\seaborn\\distributions.py:2557: FutureWarning: `distplot` is a deprecated function and will be removed in a future version. Please adapt your code to use either `displot` (a figure-level function with similar flexibility) or `histplot` (an axes-level function for histograms).\n",
      "  warnings.warn(msg, FutureWarning)\n"
     ]
    },
    {
     "data": {
      "text/plain": [
       "[Text(0.5, 0, 'Binomial distribution'), Text(0, 0.5, 'Frequency')]"
      ]
     },
     "execution_count": 5,
     "metadata": {},
     "output_type": "execute_result"
    },
    {
     "data": {
      "image/png": "[encoded data removed]",
      "text/plain": [
       "<Figure size 432x288 with 1 Axes>"
      ]
     },
     "metadata": {
      "needs_background": "light"
     },
     "output_type": "display_data"
    }
   ],
   "source": [
    "ax = sns.distplot(binomial, color=\"green\")\n",
    "ax.set(xlabel=\"Binomial distribution\", ylabel=\"Frequency\")"
   ]
  },
  {
   "cell_type": "code",
   "execution_count": 6,
   "metadata": {},
   "outputs": [
    {
     "name": "stderr",
     "output_type": "stream",
     "text": [
      "C:\\Users\\Dominika\\AppData\\Roaming\\Python\\Python37\\site-packages\\seaborn\\distributions.py:2557: FutureWarning: `distplot` is a deprecated function and will be removed in a future version. Please adapt your code to use either `displot` (a figure-level function with similar flexibility) or `histplot` (an axes-level function for histograms).\n",
      "  warnings.warn(msg, FutureWarning)\n"
     ]
    },
    {
     "data": {
      "text/plain": [
       "[Text(0.5, 0, 'Poisson distribution'), Text(0, 0.5, 'Frequency')]"
      ]
     },
     "execution_count": 6,
     "metadata": {},
     "output_type": "execute_result"
    },
    {
     "data": {
      "image/png": "[encoded data removed]",
      "text/plain": [
       "<Figure size 432x288 with 1 Axes>"
      ]
     },
     "metadata": {
      "needs_background": "light"
     },
     "output_type": "display_data"
    }
   ],
   "source": [
    "ax = sns.distplot(poisson, color=\"blue\")\n",
    "ax.set(xlabel=\"Poisson distribution\", ylabel=\"Frequency\")"
   ]
  },
  {
   "cell_type": "markdown",
   "metadata": {},
   "source": [
    "<b>Dla rozkładu Dwumianowego wygeneruj rozkład prawdopodobieństwa dla n = 20, k = 0, …, 20 oraz p = 0.4. Sprawdź, czy suma prawdopodobieństw wygenerowana dla rozkładu dwumianowego jest równa 1.</b>"
   ]
  },
  {
   "cell_type": "code",
   "execution_count": 7,
   "metadata": {},
   "outputs": [
    {
     "name": "stderr",
     "output_type": "stream",
     "text": [
      "C:\\Users\\Dominika\\AppData\\Roaming\\Python\\Python37\\site-packages\\seaborn\\distributions.py:2557: FutureWarning: `distplot` is a deprecated function and will be removed in a future version. Please adapt your code to use either `displot` (a figure-level function with similar flexibility) or `histplot` (an axes-level function for histograms).\n",
      "  warnings.warn(msg, FutureWarning)\n"
     ]
    },
    {
     "data": {
      "text/plain": [
       "[Text(0.5, 0, 'Binomial distribution'), Text(0, 0.5, 'Frequency')]"
      ]
     },
     "execution_count": 7,
     "metadata": {},
     "output_type": "execute_result"
    },
    {
     "data": {
      "image/png": "[encoded data removed]",
      "text/plain": [
       "<Figure size 432x288 with 1 Axes>"
      ]
     },
     "metadata": {
      "needs_background": "light"
     },
     "output_type": "display_data"
    }
   ],
   "source": [
    "binomial = scs.binom.rvs(n=20, p=0.4, size=20)\n",
    "ax = sns.distplot(binomial, color=\"magenta\")\n",
    "ax.set(xlabel=\"Binomial distribution\", ylabel=\"Frequency\")"
   ]
  },
  {
   "cell_type": "code",
   "execution_count": 8,
   "metadata": {},
   "outputs": [
    {
     "name": "stdout",
     "output_type": "stream",
     "text": [
      "Total probability:  1.0\n"
     ]
    }
   ],
   "source": [
    "print(\"Total probability: \", scs.binom.cdf(k=20, n=20, p=0.4))"
   ]
  },
  {
   "cell_type": "markdown",
   "metadata": {},
   "source": [
    "<b>Wygeneruj 100 danych dla rozkładu normalnego o średniej równej 0 i odchyleniu standardowym równym 2. Wyznacz wszystkie statystyki podstawowe – czy są one równe z wartościami teoretycznymi? Sprawdź, czy zwiększenie liczby danych zwiększy dokładność wyliczeń statystyk opisowych.</b>"
   ]
  },
  {
   "cell_type": "code",
   "execution_count": 9,
   "metadata": {},
   "outputs": [
    {
     "name": "stdout",
     "output_type": "stream",
     "text": [
      "Mean: expected 0, actual:  -0.23409671879770674\n",
      "Variance: expected 4, actual:  3.5521794183929107\n",
      "Standard deviation: expected 2, actual:  1.8847226369927514\n",
      "Median: expected 0, actual:  0.0\n",
      "Expected value: expected 0, actual:  0.0\n",
      "Kurtosis: expected 0, actual:  0.15296301369164267\n",
      "Skewness: expected 0, actual:  -0.10660617880443903\n"
     ]
    }
   ],
   "source": [
    "normal_distribution = scs.norm.rvs(size = 100, loc=0, scale=2)\n",
    "\n",
    "print(\"Mean: expected 0, actual: \", normal_distribution.mean())\n",
    "print(\"Variance: expected 4, actual: \", normal_distribution.var())\n",
    "print(\"Standard deviation: expected 2, actual: \", normal_distribution.std())\n",
    "print(\"Median: expected 0, actual: \", scs.norm.median(loc=0, scale=2))\n",
    "print(\"Expected value: expected 0, actual: \", scs.norm.expect(loc=0, scale=2))\n",
    "print(\"Kurtosis: expected 0, actual: \", scs.kurtosis(normal_distribution))\n",
    "print(\"Skewness: expected 0, actual: \", scs.skew(normal_distribution))"
   ]
  },
  {
   "cell_type": "markdown",
   "metadata": {},
   "source": [
    "<b>Narysować na jednym wykresie histogram dla rozkładu normalnego o parametrach: średnia = 1, odchylenie =2, wykres dla rozkładu standardowego, oraz wykres gęstości dla średniej równej -1 oraz odchylenia równego 0.5.</b>"
   ]
  },
  {
   "cell_type": "code",
   "execution_count": 10,
   "metadata": {},
   "outputs": [
    {
     "name": "stderr",
     "output_type": "stream",
     "text": [
      "C:\\Users\\Dominika\\AppData\\Roaming\\Python\\Python37\\site-packages\\seaborn\\distributions.py:2557: FutureWarning: `distplot` is a deprecated function and will be removed in a future version. Please adapt your code to use either `displot` (a figure-level function with similar flexibility) or `histplot` (an axes-level function for histograms).\n",
      "  warnings.warn(msg, FutureWarning)\n",
      "C:\\Users\\Dominika\\AppData\\Roaming\\Python\\Python37\\site-packages\\seaborn\\distributions.py:2557: FutureWarning: `distplot` is a deprecated function and will be removed in a future version. Please adapt your code to use either `displot` (a figure-level function with similar flexibility) or `histplot` (an axes-level function for histograms).\n",
      "  warnings.warn(msg, FutureWarning)\n",
      "No handles with labels found to put in legend.\n"
     ]
    },
    {
     "data": {
      "text/plain": [
       "<matplotlib.legend.Legend at 0x1b7a69f6688>"
      ]
     },
     "execution_count": 10,
     "metadata": {},
     "output_type": "execute_result"
    },
    {
     "data": {
      "image/png": "[encoded data removed]",
      "text/plain": [
       "<Figure size 432x288 with 1 Axes>"
      ]
     },
     "metadata": {
      "needs_background": "light"
     },
     "output_type": "display_data"
    }
   ],
   "source": [
    "data1 = scs.norm.rvs(size=1000, loc=1, scale=2)\n",
    "data2 = scs.norm.rvs(size=1000, loc=0, scale=1)\n",
    "data3 = scs.norm.rvs(size=1000, loc=-1, scale=0.5)\n",
    "\n",
    "ax = sns.distplot(data1, color=\"red\")\n",
    "ax = sns.distplot(data2, color=\"green\")\n",
    "ax = sns.kdeplot(data3, color=\"blue\")\n",
    "ax.legend()"
   ]
  },
  {
   "cell_type": "code",
   "execution_count": null,
   "metadata": {},
   "outputs": [],
   "source": []
  }
 ],
 "metadata": {
  "kernelspec": {
   "display_name": "Python 3",
   "language": "python",
   "name": "python3"
  },
  "language_info": {
   "codemirror_mode": {
    "name": "ipython",
    "version": 3
   },
   "file_extension": ".py",
   "mimetype": "text/x-python",
   "name": "python",
   "nbconvert_exporter": "python",
   "pygments_lexer": "ipython3",
   "version": "3.7.6"
  }
 },
 "nbformat": 4,
 "nbformat_minor": 4
}

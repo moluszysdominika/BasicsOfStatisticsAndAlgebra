{
 "cells": [
  {
   "cell_type": "markdown",
   "metadata": {},
   "source": [
    "# Ćwiczenie 4 Testowanie hipotez statystycznych\n",
    "\n",
    "\n",
    "<b>Wygeneruj próbę losową dla rozkładu normalnego dla średniej = 2, odchylenia = 30 i liczby elementów = 200. Zbadaj hipotezę mówiącą o tym, że średnia tego rozkładu jest równa 2,5.</b>"
   ]
  },
  {
   "cell_type": "code",
   "execution_count": 1,
   "metadata": {},
   "outputs": [
    {
     "name": "stdout",
     "output_type": "stream",
     "text": [
      "Średnia rokładu:  0.36021595725116384\n",
      "Test średniej:  0.32494902909792267\n",
      "Przyjmujemy hipotezę H0\n"
     ]
    }
   ],
   "source": [
    "import pandas as pd\n",
    "import numpy as np\n",
    "import matplotlib.pyplot as plt\n",
    "import statistics as stat\n",
    "import scipy.stats as scs\n",
    "import seaborn as sns\n",
    "import pylab\n",
    "\n",
    "rozklad_normalny = scs.norm.rvs(size=200, loc=2, scale=30)\n",
    "print(\"Średnia rokładu: \", rozklad_normalny.mean())\n",
    "\n",
    "tset, test_sredniej = scs.ttest_1samp(rozklad_normalny, 2.5)\n",
    "print(\"Test średniej: \", test_sredniej)\n",
    "\n",
    "if test_sredniej > 0.05:\n",
    "    print(\"Przyjmujemy hipotezę H0\")\n",
    "else:\n",
    "    print(\"Odrzucamy hipotezę H0\")"
   ]
  },
  {
   "cell_type": "markdown",
   "metadata": {},
   "source": [
    "<b>Wczytaj plik napoje.csv do pandas DataFrame. Zweryfikuj hipotezę że średnie spożycie piwa lech wynosi 60500, coli wynosi 222000, piw regionalne wynosi 43500.</b>"
   ]
  },
  {
   "cell_type": "code",
   "execution_count": 2,
   "metadata": {},
   "outputs": [
    {
     "name": "stdout",
     "output_type": "stream",
     "text": [
      "Lech:\n",
      "61091.348958333336\n",
      "Ttest_1sampResult(statistic=1.646503944538866, pvalue=0.10130442686854732)\n",
      "\n",
      "Cola: \n",
      "226389.46875\n",
      "Ttest_1sampResult(statistic=6.391908975571081, pvalue=1.2249714535216758e-09)\n",
      "\n",
      "Piwa regionalne: \n",
      "48668.036458333336\n",
      "Ttest_1sampResult(statistic=17.440927488514944, pvalue=2.2572528828603765e-41)\n"
     ]
    }
   ],
   "source": [
    "data = pd.read_csv(\"C:/Users/Dominika/Desktop/napoje.csv\", delimiter=\";\")\n",
    "\n",
    "test_lech = scs.ttest_1samp(data[\"lech\"], 60500)\n",
    "print(\"Lech:\")\n",
    "print(data[\"lech\"].mean())\n",
    "print(test_lech)\n",
    "\n",
    "test_cola = scs.ttest_1samp(data[\"cola\"], 222000)\n",
    "print(\"\\nCola: \")\n",
    "print(data['cola'].mean())\n",
    "print(test_cola)\n",
    "\n",
    "test_regio = scs.ttest_1samp(data[\"regionalne\"], 43500)\n",
    "print(\"\\nPiwa regionalne: \")\n",
    "print(data['regionalne'].mean())\n",
    "print(test_regio)"
   ]
  },
  {
   "cell_type": "markdown",
   "metadata": {},
   "source": [
    "<b>Sprawdzić która zmienna w pliku napoje.csv wykazuje normalność.</b>"
   ]
  },
  {
   "cell_type": "code",
   "execution_count": 3,
   "metadata": {},
   "outputs": [
    {
     "name": "stdout",
     "output_type": "stream",
     "text": [
      "Test D’Agostino i Pearson, dla alpha = 2: \n",
      "\n",
      "Zmienna mies nie wykazuje normalności. Wartość p:  9.254690863645396e-22\n",
      "Zmienna rok nie wykazuje normalności. Wartość p:  6.71326167207233e-21\n",
      "Zmienna pepsi wykazuje normalność. Wartość p:  0.7200062116206445\n",
      "Zmienna fanta  nie wykazuje normalności. Wartość p:  0.1826792656115071\n",
      "Zmienna żywiec wykazuje normalność. Wartość p:  0.34024553142391856\n",
      "Zmienna okocim nie wykazuje normalności. Wartość p:  0.12645798710253495\n",
      "Zmienna regionalne nie wykazuje normalności. Wartość p:  2.721214025437686e-07\n",
      "Zmienna cola wykazuje normalność. Wartość p:  0.5358705042542622\n",
      "Zmienna lech wykazuje normalność. Wartość p:  0.4732014584808095\n"
     ]
    }
   ],
   "source": [
    "alpha = 0.2\n",
    "print(\"Test D’Agostino i Pearson, dla alpha = 2: \\n\")\n",
    "\n",
    "for column in data.columns:\n",
    "    pval = scs.normaltest(data[column])[1]\n",
    "    if(pval < alpha):\n",
    "        print(\"Zmienna \" + column + \" nie wykazuje normalności. Wartość p: \", pval)\n",
    "    else:\n",
    "        print(\"Zmienna \" + column + \" wykazuje normalność. Wartość p: \", pval)"
   ]
  },
  {
   "cell_type": "markdown",
   "metadata": {},
   "source": [
    "<b>Zbadaj równość średnich dla następujących par: okocim – lech, fanta – regionalne oraz cola – pepsi.</b>"
   ]
  },
  {
   "cell_type": "code",
   "execution_count": 4,
   "metadata": {},
   "outputs": [
    {
     "name": "stdout",
     "output_type": "stream",
     "text": [
      "Statystyka T i prawdopodobienstwo dla średnich pary okocim-lech niezależne: \n",
      " Ttest_indResult(statistic=-0.8323919685480173, pvalue=0.4057078093583595)\n",
      "Statystyka T i prawdopodobienstwo dla średnich pary okocim-lech zależne: \n",
      " Ttest_relResult(statistic=-0.8438785972612856, pvalue=0.3997929132766135)\n",
      "\n",
      "Statystyka T i prawdopodobienstwo dla średnich pary fanta-regionalne niezależne: \n",
      " Ttest_indResult(statistic=-11.013919429372727, pvalue=1.097001288015355e-24)\n",
      "Statystyka T i prawdopodobienstwo dla średnich pary fanta-regionalne zależne: \n",
      " Ttest_relResult(statistic=-10.987696643270045, pvalue=4.428395701287979e-22)\n",
      "\n",
      "Statystyka T i prawdopodobienstwo dla średnich pary cola-pepsi niezależne: \n",
      " Ttest_indResult(statistic=145.61815604546564, pvalue=0.0)\n",
      "Statystyka T i prawdopodobienstwo dla średnich pary cola-pepsi zależne: \n",
      " Ttest_relResult(statistic=144.127738334813, pvalue=7.963660733688787e-197)\n"
     ]
    }
   ],
   "source": [
    "okocim_lech_nz = scs.ttest_ind(data[\"okocim\"], data[\"lech\"])\n",
    "fanta_regionalne_nz = scs.ttest_ind(data[\"fanta \"], data[\"regionalne\"])\n",
    "cola_pepsi_nz = scs.ttest_ind(data[\"cola\"], data[\"pepsi\"])\n",
    "okocim_lech_z = scs.ttest_rel(data[\"okocim\"], data[\"lech\"])\n",
    "fanta_regionalne_z = scs.ttest_rel(data[\"fanta \"], data[\"regionalne\"])\n",
    "cola_pepsi_z = scs.ttest_rel(data[\"cola\"], data[\"pepsi\"])\n",
    "\n",
    "print(\"Statystyka T i prawdopodobienstwo dla średnich pary okocim-lech niezależne: \\n\", okocim_lech_nz)\n",
    "print(\"Statystyka T i prawdopodobienstwo dla średnich pary okocim-lech zależne: \\n\", okocim_lech_z)\n",
    "print(\"\\nStatystyka T i prawdopodobienstwo dla średnich pary fanta-regionalne niezależne: \\n\", fanta_regionalne_nz)\n",
    "print(\"Statystyka T i prawdopodobienstwo dla średnich pary fanta-regionalne zależne: \\n\", fanta_regionalne_z)\n",
    "print(\"\\nStatystyka T i prawdopodobienstwo dla średnich pary cola-pepsi niezależne: \\n\", cola_pepsi_nz)\n",
    "print(\"Statystyka T i prawdopodobienstwo dla średnich pary cola-pepsi zależne: \\n\", cola_pepsi_z)"
   ]
  },
  {
   "cell_type": "markdown",
   "metadata": {},
   "source": [
    "<b>Zbadaj równość wariancji pomiędzy okocim – lech, żywiec – fanta oraz regionalne – cola.</b>"
   ]
  },
  {
   "cell_type": "code",
   "execution_count": 5,
   "metadata": {},
   "outputs": [
    {
     "name": "stdout",
     "output_type": "stream",
     "text": [
      "Statystyka T i prawdopodobienstwo dla wariancji pomiędzy okocim-lech: \n",
      " LeveneResult(statistic=1.191182232831977, pvalue=0.2757791126546958)\n",
      "\n",
      "Statystyka T i prawdopodobienstwo dla wariancji pomiędzy fanta-regionalne: \n",
      " LeveneResult(statistic=13.70778945064625, pvalue=0.0002450051483561103)\n",
      "\n",
      "Statystyka T i prawdopodobienstwo dla wariancji pomiędzy regionalne-cola: \n",
      " LeveneResult(statistic=83.85984593010029, pvalue=3.275749775904902e-18)\n"
     ]
    }
   ],
   "source": [
    "okocim_lech_var = scs.levene(data[\"okocim\"], data[\"lech\"])\n",
    "fanta_regionalne_var = scs.levene(data[\"fanta \"], data[\"regionalne\"])\n",
    "regionalne_cola_var = scs.levene(data[\"regionalne\"], data[\"cola\"])\n",
    "\n",
    "print(\"Statystyka T i prawdopodobienstwo dla wariancji pomiędzy okocim-lech: \\n\", okocim_lech_var)\n",
    "print(\"\\nStatystyka T i prawdopodobienstwo dla wariancji pomiędzy fanta-regionalne: \\n\", fanta_regionalne_var)\n",
    "print(\"\\nStatystyka T i prawdopodobienstwo dla wariancji pomiędzy regionalne-cola: \\n\", regionalne_cola_var)"
   ]
  },
  {
   "cell_type": "markdown",
   "metadata": {},
   "source": [
    "<b>Zbadaj równość średnich pomiędzy latami 2001 i 2015 dla piw regionalnych.</b>"
   ]
  },
  {
   "cell_type": "code",
   "execution_count": 6,
   "metadata": {},
   "outputs": [
    {
     "name": "stdout",
     "output_type": "stream",
     "text": [
      "Badanie równości średnich pomiędzy latami 2001-2015 dla piw regionalnych: \n",
      " Ttest_relResult(statistic=-4.981131079425873, pvalue=0.00041469788280755834)\n"
     ]
    }
   ],
   "source": [
    "regionalne_2001_2015 = scs.ttest_rel(data.loc[data[\"rok\"] == 2001][\"regionalne\"], data.loc[data[\"rok\"] == 2015][\"regionalne\"])\n",
    "\n",
    "print(\"Badanie równości średnich pomiędzy latami 2001-2015 dla piw regionalnych: \\n\", regionalne_2001_2015)"
   ]
  },
  {
   "cell_type": "markdown",
   "metadata": {},
   "source": [
    "<b>Zbadaj równość średnich dla wartości z roku 2016 oraz dla wartości z pliku napoje_po_reklamie.csv oddzielnie dla coli, fanty i pepsi. Zakładamy, że zmienne te są zależne.</b>"
   ]
  },
  {
   "cell_type": "code",
   "execution_count": 7,
   "metadata": {},
   "outputs": [
    {
     "name": "stdout",
     "output_type": "stream",
     "text": [
      "Badanie równości średnich z 2016 roku dla coli: \n",
      " Ttest_relResult(statistic=0.11032676911481809, pvalue=0.9141373808316627)\n",
      "\n",
      "Badanie równości średnich z 2016 roku dla fanty: \n",
      " Ttest_relResult(statistic=0.3199018672121306, pvalue=0.7550366759257836)\n",
      "\n",
      "Badanie równości średnich z 2016 roku dla pepsi: \n",
      " Ttest_relResult(statistic=-0.20520478240138976, pvalue=0.8411601080767367)\n"
     ]
    }
   ],
   "source": [
    "data1 = pd.read_csv(\"C:/Users/Dominika/Desktop/napoje_po_reklamie.csv\", delimiter=\";\")\n",
    "\n",
    "cola = scs.ttest_rel(data.loc[data[\"rok\"] == 2016][\"cola\"], data1[\"cola\"])\n",
    "fanta = scs.ttest_rel(data.loc[data[\"rok\"] == 2016][\"fanta \"], data1[\"fanta \"])\n",
    "pepsi = scs.ttest_rel(data.loc[data[\"rok\"] == 2016][\"pepsi\"], data1[\"pepsi\"])\n",
    "\n",
    "print(\"Badanie równości średnich z 2016 roku dla coli: \\n\", cola)\n",
    "print(\"\\nBadanie równości średnich z 2016 roku dla fanty: \\n\", fanta)\n",
    "print(\"\\nBadanie równości średnich z 2016 roku dla pepsi: \\n\", pepsi)"
   ]
  }
 ],
 "metadata": {
  "kernelspec": {
   "display_name": "Python 3",
   "language": "python",
   "name": "python3"
  },
  "language_info": {
   "codemirror_mode": {
    "name": "ipython",
    "version": 3
   },
   "file_extension": ".py",
   "mimetype": "text/x-python",
   "name": "python",
   "nbconvert_exporter": "python",
   "pygments_lexer": "ipython3",
   "version": "3.7.6"
  }
 },
 "nbformat": 4,
 "nbformat_minor": 4
}
